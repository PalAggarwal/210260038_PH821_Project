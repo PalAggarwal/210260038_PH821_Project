{
 "cells": [
  {
   "cell_type": "markdown",
   "metadata": {},
   "source": [
    "# Estimating the parameters of a simulated black hole binary source"
   ]
  },
  {
   "cell_type": "code",
   "execution_count": 2,
   "metadata": {
    "colab": {
     "base_uri": "https://localhost:8080/"
    },
    "id": "BX5DpDW2W4Rg",
    "outputId": "4523dbed-e9c4-42e6-aa36-6a75f4a5c676"
   },
   "outputs": [
    {
     "name": "stdout",
     "output_type": "stream",
     "text": [
      "\u001b[?25l     \u001b[90m━━━━━━━━━━━━━━━━━━━━━━━━━━━━━━━━━━━━━━━━\u001b[0m \u001b[32m0.0/51.0 kB\u001b[0m \u001b[31m?\u001b[0m eta \u001b[36m-:--:--\u001b[0m\r",
      "\u001b[2K     \u001b[90m━━━━━━━━━━━━━━━━━━━━━━━━━━━━━━━━━━━━━━━━\u001b[0m \u001b[32m51.0/51.0 kB\u001b[0m \u001b[31m3.0 MB/s\u001b[0m eta \u001b[36m0:00:00\u001b[0m\n",
      "\u001b[?25h  Preparing metadata (setup.py) ... \u001b[?25l\u001b[?25hdone\n",
      "\u001b[2K   \u001b[90m━━━━━━━━━━━━━━━━━━━━━━━━━━━━━━━━━━━━━━━━\u001b[0m \u001b[32m40.4/40.4 MB\u001b[0m \u001b[31m16.8 MB/s\u001b[0m eta \u001b[36m0:00:00\u001b[0m\n",
      "\u001b[2K   \u001b[90m━━━━━━━━━━━━━━━━━━━━━━━━━━━━━━━━━━━━━━━━\u001b[0m \u001b[32m46.5/46.5 kB\u001b[0m \u001b[31m2.0 MB/s\u001b[0m eta \u001b[36m0:00:00\u001b[0m\n",
      "\u001b[?25h  Building wheel for ligo-segments (setup.py) ... \u001b[?25l\u001b[?25hdone\n"
     ]
    }
   ],
   "source": [
    "pip install -q 'lalsuite==7.24'"
   ]
  },
  {
   "cell_type": "code",
   "execution_count": 1,
   "metadata": {
    "colab": {
     "base_uri": "https://localhost:8080/"
    },
    "id": "JU3k22abXimo",
    "outputId": "aa9680ae-0253-47f6-e280-a8fe8e1400fd"
   },
   "outputs": [
    {
     "name": "stdout",
     "output_type": "stream",
     "text": [
      "Collecting pycbc\n",
      "  Downloading PyCBC-2.7.0-cp310-cp310-manylinux_2_17_x86_64.manylinux2014_x86_64.whl.metadata (4.3 kB)\n",
      "Requirement already satisfied: numpy>=1.16.0 in /usr/local/lib/python3.10/dist-packages (from pycbc) (1.26.4)\n",
      "Requirement already satisfied: cython>=0.29 in /usr/local/lib/python3.10/dist-packages (from pycbc) (3.0.11)\n",
      "Requirement already satisfied: scipy>=0.16.0 in /usr/local/lib/python3.10/dist-packages (from pycbc) (1.13.1)\n",
      "Requirement already satisfied: astropy!=4.0.5,!=4.2.1,>=2.0.3 in /usr/local/lib/python3.10/dist-packages (from pycbc) (6.1.6)\n",
      "Requirement already satisfied: matplotlib>=1.5.1 in /usr/local/lib/python3.10/dist-packages (from pycbc) (3.8.0)\n",
      "Collecting mpld3>=0.3 (from pycbc)\n",
      "  Downloading mpld3-0.5.10-py3-none-any.whl.metadata (5.1 kB)\n",
      "Requirement already satisfied: pillow in /usr/local/lib/python3.10/dist-packages (from pycbc) (11.0.0)\n",
      "Requirement already satisfied: h5py!=3.7.0,>=3.0.0 in /usr/local/lib/python3.10/dist-packages (from pycbc) (3.12.1)\n",
      "Requirement already satisfied: jinja2 in /usr/local/lib/python3.10/dist-packages (from pycbc) (3.1.4)\n",
      "Collecting Mako>=1.0.1 (from pycbc)\n",
      "  Downloading Mako-1.3.6-py3-none-any.whl.metadata (2.9 kB)\n",
      "Requirement already satisfied: beautifulsoup4>=4.6.0 in /usr/local/lib/python3.10/dist-packages (from pycbc) (4.12.3)\n",
      "Requirement already satisfied: tqdm in /usr/local/lib/python3.10/dist-packages (from pycbc) (4.66.6)\n",
      "Requirement already satisfied: setuptools in /usr/local/lib/python3.10/dist-packages (from pycbc) (75.1.0)\n",
      "Collecting gwdatafind (from pycbc)\n",
      "  Downloading gwdatafind-1.2.0-py3-none-any.whl.metadata (3.9 kB)\n",
      "Collecting pegasus-wms.api>=5.0.8 (from pycbc)\n",
      "  Downloading pegasus-wms.api-5.0.8.tar.gz (47 kB)\n",
      "\u001b[2K     \u001b[90m━━━━━━━━━━━━━━━━━━━━━━━━━━━━━━━━━━━━━━━━\u001b[0m \u001b[32m47.6/47.6 kB\u001b[0m \u001b[31m3.3 MB/s\u001b[0m eta \u001b[36m0:00:00\u001b[0m\n",
      "\u001b[?25h  Installing build dependencies ... \u001b[?25l\u001b[?25hdone\n",
      "  Getting requirements to build wheel ... \u001b[?25l\u001b[?25hdone\n",
      "  Preparing metadata (pyproject.toml) ... \u001b[?25l\u001b[?25hdone\n",
      "Collecting python-ligo-lw>=1.7.0 (from pycbc)\n",
      "  Downloading python-ligo-lw-1.8.3.tar.gz (2.3 MB)\n",
      "\u001b[2K     \u001b[90m━━━━━━━━━━━━━━━━━━━━━━━━━━━━━━━━━━━━━━━━\u001b[0m \u001b[32m2.3/2.3 MB\u001b[0m \u001b[31m38.9 MB/s\u001b[0m eta \u001b[36m0:00:00\u001b[0m\n",
      "\u001b[?25h  Preparing metadata (setup.py) ... \u001b[?25l\u001b[?25hdone\n",
      "Collecting ligo-segments (from pycbc)\n",
      "  Downloading ligo-segments-1.4.0.tar.gz (51 kB)\n",
      "\u001b[2K     \u001b[90m━━━━━━━━━━━━━━━━━━━━━━━━━━━━━━━━━━━━━━━━\u001b[0m \u001b[32m51.0/51.0 kB\u001b[0m \u001b[31m4.4 MB/s\u001b[0m eta \u001b[36m0:00:00\u001b[0m\n",
      "\u001b[?25h  Preparing metadata (setup.py) ... \u001b[?25l\u001b[?25hdone\n",
      "Collecting lalsuite!=7.2 (from pycbc)\n",
      "  Downloading lalsuite-7.24-cp310-cp310-manylinux_2_28_x86_64.whl.metadata (3.2 kB)\n",
      "Collecting lscsoft-glue>=1.59.3 (from pycbc)\n",
      "  Downloading lscsoft_glue-4.0.0-py3-none-any.whl.metadata (1.4 kB)\n",
      "Collecting pykerr (from pycbc)\n",
      "  Downloading pykerr-0.1.0-py3-none-any.whl.metadata (5.4 kB)\n",
      "Requirement already satisfied: pyerfa>=2.0.1.1 in /usr/local/lib/python3.10/dist-packages (from astropy!=4.0.5,!=4.2.1,>=2.0.3->pycbc) (2.0.1.5)\n",
      "Requirement already satisfied: astropy-iers-data>=0.2024.10.28.0.34.7 in /usr/local/lib/python3.10/dist-packages (from astropy!=4.0.5,!=4.2.1,>=2.0.3->pycbc) (0.2024.11.18.0.35.2)\n",
      "Requirement already satisfied: PyYAML>=3.13 in /usr/local/lib/python3.10/dist-packages (from astropy!=4.0.5,!=4.2.1,>=2.0.3->pycbc) (6.0.2)\n",
      "Requirement already satisfied: packaging>=19.0 in /usr/local/lib/python3.10/dist-packages (from astropy!=4.0.5,!=4.2.1,>=2.0.3->pycbc) (24.2)\n",
      "Requirement already satisfied: soupsieve>1.2 in /usr/local/lib/python3.10/dist-packages (from beautifulsoup4>=4.6.0->pycbc) (2.6)\n",
      "Requirement already satisfied: python-dateutil in /usr/local/lib/python3.10/dist-packages (from lalsuite!=7.2->pycbc) (2.8.2)\n",
      "Requirement already satisfied: pyOpenSSL in /usr/local/lib/python3.10/dist-packages (from lscsoft-glue>=1.59.3->pycbc) (24.2.1)\n",
      "Requirement already satisfied: six in /usr/local/lib/python3.10/dist-packages (from lscsoft-glue>=1.59.3->pycbc) (1.16.0)\n",
      "Requirement already satisfied: MarkupSafe>=0.9.2 in /usr/local/lib/python3.10/dist-packages (from Mako>=1.0.1->pycbc) (3.0.2)\n",
      "Requirement already satisfied: contourpy>=1.0.1 in /usr/local/lib/python3.10/dist-packages (from matplotlib>=1.5.1->pycbc) (1.3.1)\n",
      "Requirement already satisfied: cycler>=0.10 in /usr/local/lib/python3.10/dist-packages (from matplotlib>=1.5.1->pycbc) (0.12.1)\n",
      "Requirement already satisfied: fonttools>=4.22.0 in /usr/local/lib/python3.10/dist-packages (from matplotlib>=1.5.1->pycbc) (4.55.0)\n",
      "Requirement already satisfied: kiwisolver>=1.0.1 in /usr/local/lib/python3.10/dist-packages (from matplotlib>=1.5.1->pycbc) (1.4.7)\n",
      "Requirement already satisfied: pyparsing>=2.3.1 in /usr/local/lib/python3.10/dist-packages (from matplotlib>=1.5.1->pycbc) (3.2.0)\n",
      "Collecting pegasus-wms.common (from pegasus-wms.api>=5.0.8->pycbc)\n",
      "  Downloading pegasus-wms.common-5.0.8.tar.gz (47 kB)\n",
      "\u001b[2K     \u001b[90m━━━━━━━━━━━━━━━━━━━━━━━━━━━━━━━━━━━━━━━━\u001b[0m \u001b[32m47.1/47.1 kB\u001b[0m \u001b[31m3.8 MB/s\u001b[0m eta \u001b[36m0:00:00\u001b[0m\n",
      "\u001b[?25h  Installing build dependencies ... \u001b[?25l\u001b[?25hdone\n",
      "  Getting requirements to build wheel ... \u001b[?25l\u001b[?25hdone\n",
      "  Preparing metadata (pyproject.toml) ... \u001b[?25l\u001b[?25hdone\n",
      "Collecting igwn-auth-utils>=0.3.1 (from gwdatafind->pycbc)\n",
      "  Downloading igwn_auth_utils-1.1.1-py3-none-any.whl.metadata (3.8 kB)\n",
      "Requirement already satisfied: cryptography>=2.3 in /usr/local/lib/python3.10/dist-packages (from igwn-auth-utils>=0.3.1->gwdatafind->pycbc) (43.0.3)\n",
      "Requirement already satisfied: requests>=2.14 in /usr/local/lib/python3.10/dist-packages (from igwn-auth-utils>=0.3.1->gwdatafind->pycbc) (2.32.3)\n",
      "Collecting safe-netrc>=1.0.0 (from igwn-auth-utils>=0.3.1->gwdatafind->pycbc)\n",
      "  Downloading safe_netrc-1.0.1-py3-none-any.whl.metadata (1.9 kB)\n",
      "Collecting scitokens>=1.7.0 (from igwn-auth-utils>=0.3.1->gwdatafind->pycbc)\n",
      "  Downloading scitokens-1.8.1-py3-none-any.whl.metadata (12 kB)\n",
      "Requirement already satisfied: cffi>=1.12 in /usr/local/lib/python3.10/dist-packages (from cryptography>=2.3->igwn-auth-utils>=0.3.1->gwdatafind->pycbc) (1.17.1)\n",
      "Requirement already satisfied: charset-normalizer<4,>=2 in /usr/local/lib/python3.10/dist-packages (from requests>=2.14->igwn-auth-utils>=0.3.1->gwdatafind->pycbc) (3.4.0)\n",
      "Requirement already satisfied: idna<4,>=2.5 in /usr/local/lib/python3.10/dist-packages (from requests>=2.14->igwn-auth-utils>=0.3.1->gwdatafind->pycbc) (3.10)\n",
      "Requirement already satisfied: urllib3<3,>=1.21.1 in /usr/local/lib/python3.10/dist-packages (from requests>=2.14->igwn-auth-utils>=0.3.1->gwdatafind->pycbc) (2.2.3)\n",
      "Requirement already satisfied: certifi>=2017.4.17 in /usr/local/lib/python3.10/dist-packages (from requests>=2.14->igwn-auth-utils>=0.3.1->gwdatafind->pycbc) (2024.8.30)\n",
      "Requirement already satisfied: PyJWT>=1.6.1 in /usr/local/lib/python3.10/dist-packages (from scitokens>=1.7.0->igwn-auth-utils>=0.3.1->gwdatafind->pycbc) (2.10.0)\n",
      "Requirement already satisfied: pycparser in /usr/local/lib/python3.10/dist-packages (from cffi>=1.12->cryptography>=2.3->igwn-auth-utils>=0.3.1->gwdatafind->pycbc) (2.22)\n",
      "Downloading PyCBC-2.7.0-cp310-cp310-manylinux_2_17_x86_64.manylinux2014_x86_64.whl (8.6 MB)\n",
      "\u001b[2K   \u001b[90m━━━━━━━━━━━━━━━━━━━━━━━━━━━━━━━━━━━━━━━━\u001b[0m \u001b[32m8.6/8.6 MB\u001b[0m \u001b[31m86.1 MB/s\u001b[0m eta \u001b[36m0:00:00\u001b[0m\n",
      "\u001b[?25hDownloading lalsuite-7.24-cp310-cp310-manylinux_2_28_x86_64.whl (40.4 MB)\n",
      "\u001b[2K   \u001b[90m━━━━━━━━━━━━━━━━━━━━━━━━━━━━━━━━━━━━━━━━\u001b[0m \u001b[32m40.4/40.4 MB\u001b[0m \u001b[31m18.0 MB/s\u001b[0m eta \u001b[36m0:00:00\u001b[0m\n",
      "\u001b[?25hDownloading lscsoft_glue-4.0.0-py3-none-any.whl (46 kB)\n",
      "\u001b[2K   \u001b[90m━━━━━━━━━━━━━━━━━━━━━━━━━━━━━━━━━━━━━━━━\u001b[0m \u001b[32m46.5/46.5 kB\u001b[0m \u001b[31m3.6 MB/s\u001b[0m eta \u001b[36m0:00:00\u001b[0m\n",
      "\u001b[?25hDownloading Mako-1.3.6-py3-none-any.whl (78 kB)\n",
      "\u001b[2K   \u001b[90m━━━━━━━━━━━━━━━━━━━━━━━━━━━━━━━━━━━━━━━━\u001b[0m \u001b[32m78.6/78.6 kB\u001b[0m \u001b[31m5.9 MB/s\u001b[0m eta \u001b[36m0:00:00\u001b[0m\n",
      "\u001b[?25hDownloading mpld3-0.5.10-py3-none-any.whl (202 kB)\n",
      "\u001b[2K   \u001b[90m━━━━━━━━━━━━━━━━━━━━━━━━━━━━━━━━━━━━━━━━\u001b[0m \u001b[32m202.6/202.6 kB\u001b[0m \u001b[31m16.1 MB/s\u001b[0m eta \u001b[36m0:00:00\u001b[0m\n",
      "\u001b[?25hDownloading gwdatafind-1.2.0-py3-none-any.whl (45 kB)\n",
      "\u001b[2K   \u001b[90m━━━━━━━━━━━━━━━━━━━━━━━━━━━━━━━━━━━━━━━━\u001b[0m \u001b[32m45.5/45.5 kB\u001b[0m \u001b[31m3.9 MB/s\u001b[0m eta \u001b[36m0:00:00\u001b[0m\n",
      "\u001b[?25hDownloading pykerr-0.1.0-py3-none-any.whl (48.1 MB)\n",
      "\u001b[2K   \u001b[90m━━━━━━━━━━━━━━━━━━━━━━━━━━━━━━━━━━━━━━━━\u001b[0m \u001b[32m48.1/48.1 MB\u001b[0m \u001b[31m14.4 MB/s\u001b[0m eta \u001b[36m0:00:00\u001b[0m\n",
      "\u001b[?25hDownloading igwn_auth_utils-1.1.1-py3-none-any.whl (26 kB)\n",
      "Downloading safe_netrc-1.0.1-py3-none-any.whl (10 kB)\n",
      "Downloading scitokens-1.8.1-py3-none-any.whl (31 kB)\n",
      "Building wheels for collected packages: pegasus-wms.api, python-ligo-lw, ligo-segments, pegasus-wms.common\n",
      "  Building wheel for pegasus-wms.api (pyproject.toml) ... \u001b[?25l\u001b[?25hdone\n",
      "  Created wheel for pegasus-wms.api: filename=pegasus_wms.api-5.0.8-py3-none-any.whl size=50500 sha256=701fab224ffaad6c2b43ca83a2335fb1c90a191585e96fe1ec15031c7d7a944e\n",
      "  Stored in directory: /root/.cache/pip/wheels/5c/0b/9e/17073d1c895b83f26d9fad36c2b5a6771c1903319c5e24a89a\n",
      "  Building wheel for python-ligo-lw (setup.py) ... \u001b[?25l\u001b[?25hdone\n",
      "  Created wheel for python-ligo-lw: filename=python_ligo_lw-1.8.3-cp310-cp310-linux_x86_64.whl size=155082 sha256=df4ed83f09276ec77b5d779a0f24641b0d60f79692d38337d1bcff186ea60ee1\n",
      "  Stored in directory: /root/.cache/pip/wheels/56/47/e8/75b3e1cf390f9b408944a7914964f73eb932b0cfb739c9ed1d\n",
      "  Building wheel for ligo-segments (setup.py) ... \u001b[?25l\u001b[?25hdone\n",
      "  Created wheel for ligo-segments: filename=ligo_segments-1.4.0-cp310-cp310-linux_x86_64.whl size=99223 sha256=67138a86c47ee13788aa845c3049874c6c8abc5fe8a883cb181d0e45b84724f8\n",
      "  Stored in directory: /root/.cache/pip/wheels/6d/48/d1/3466977be4e41ba57f92ad0d5619f083df43cf319a151c4e06\n",
      "  Building wheel for pegasus-wms.common (pyproject.toml) ... \u001b[?25l\u001b[?25hdone\n",
      "  Created wheel for pegasus-wms.common: filename=pegasus_wms.common-5.0.8-py3-none-any.whl size=50840 sha256=51c6b9115baeb06a4078dec3215b98b15e4d74c5a85871b6b2cf1d01a1018b2a\n",
      "  Stored in directory: /root/.cache/pip/wheels/72/bc/eb/ea0c3299470dc86632833e094d92c3d5c46e7d7979a8c030f2\n",
      "Successfully built pegasus-wms.api python-ligo-lw ligo-segments pegasus-wms.common\n",
      "Installing collected packages: safe-netrc, pegasus-wms.common, Mako, ligo-segments, pykerr, pegasus-wms.api, scitokens, mpld3, lscsoft-glue, igwn-auth-utils, python-ligo-lw, lalsuite, gwdatafind, pycbc\n",
      "Successfully installed Mako-1.3.6 gwdatafind-1.2.0 igwn-auth-utils-1.1.1 lalsuite-7.24 ligo-segments-1.4.0 lscsoft-glue-4.0.0 mpld3-0.5.10 pegasus-wms.api-5.0.8 pegasus-wms.common-5.0.8 pycbc-2.7.0 pykerr-0.1.0 python-ligo-lw-1.8.3 safe-netrc-1.0.1 scitokens-1.8.1\n"
     ]
    }
   ],
   "source": [
    "# installing pycbc\n",
    "pip install pycbc"
   ]
  },
  {
   "cell_type": "code",
   "execution_count": 2,
   "metadata": {
    "colab": {
     "base_uri": "https://localhost:8080/"
    },
    "id": "v4NlIIVHXs5w",
    "outputId": "5326efd5-6937-4ae3-8d01-2a95b2da7a70"
   },
   "outputs": [
    {
     "name": "stderr",
     "output_type": "stream",
     "text": [
      "/usr/local/lib/python3.10/dist-packages/pycbc/types/array.py:36: UserWarning: Wswiglal-redir-stdio:\n",
      "\n",
      "SWIGLAL standard output/error redirection is enabled in IPython.\n",
      "This may lead to performance penalties. To disable locally, use:\n",
      "\n",
      "with lal.no_swig_redirect_standard_output_error():\n",
      "    ...\n",
      "\n",
      "To disable globally, use:\n",
      "\n",
      "lal.swig_redirect_standard_output_error(False)\n",
      "\n",
      "Note however that this will likely lead to error messages from\n",
      "LAL functions being either misdirected or lost when called from\n",
      "Jupyter notebooks.\n",
      "\n",
      "To suppress this warning, use:\n",
      "\n",
      "import warnings\n",
      "warnings.filterwarnings(\"ignore\", \"Wswiglal-redir-stdio\")\n",
      "import lal\n",
      "\n",
      "  import lal as _lal\n"
     ]
    }
   ],
   "source": [
    "from pycbc import frame"
   ]
  },
  {
   "cell_type": "code",
   "execution_count": 46,
   "metadata": {
    "id": "BGbhIgroXmGA"
   },
   "outputs": [],
   "source": [
    "#reading the .gwf files having strain data for three interferometers\n",
    "H1_data = frame.read_frame('PE.gwf', 'H1:FAKE_STRAIN')\n",
    "L1_data = frame.read_frame('PE.gwf', 'L1:FAKE_STRAIN')\n",
    "V1_data = frame.read_frame('PE.gwf', 'V1:FAKE_STRAIN')"
   ]
  },
  {
   "cell_type": "code",
   "execution_count": 5,
   "metadata": {
    "colab": {
     "base_uri": "https://localhost:8080/"
    },
    "id": "NAgJoK8IX2Eq",
    "outputId": "2908aa97-2b17-4654-9b2e-09741df595ad"
   },
   "outputs": [
    {
     "name": "stdout",
     "output_type": "stream",
     "text": [
      "\u001b[2K   \u001b[90m━━━━━━━━━━━━━━━━━━━━━━━━━━━━━━━━━━━━━━━━\u001b[0m \u001b[32m2.3/2.3 MB\u001b[0m \u001b[31m37.2 MB/s\u001b[0m eta \u001b[36m0:00:00\u001b[0m\n",
      "\u001b[2K   \u001b[90m━━━━━━━━━━━━━━━━━━━━━━━━━━━━━━━━━━━━━━━━\u001b[0m \u001b[32m1.4/1.4 MB\u001b[0m \u001b[31m50.6 MB/s\u001b[0m eta \u001b[36m0:00:00\u001b[0m\n",
      "\u001b[2K   \u001b[90m━━━━━━━━━━━━━━━━━━━━━━━━━━━━━━━━━━━━━━━━\u001b[0m \u001b[32m940.1/940.1 kB\u001b[0m \u001b[31m39.2 MB/s\u001b[0m eta \u001b[36m0:00:00\u001b[0m\n",
      "\u001b[2K   \u001b[90m━━━━━━━━━━━━━━━━━━━━━━━━━━━━━━━━━━━━━━━━\u001b[0m \u001b[32m295.0/295.0 kB\u001b[0m \u001b[31m17.4 MB/s\u001b[0m eta \u001b[36m0:00:00\u001b[0m\n",
      "\u001b[2K   \u001b[90m━━━━━━━━━━━━━━━━━━━━━━━━━━━━━━━━━━━━━━━━\u001b[0m \u001b[32m108.1/108.1 kB\u001b[0m \u001b[31m8.8 MB/s\u001b[0m eta \u001b[36m0:00:00\u001b[0m\n",
      "\u001b[2K   \u001b[90m━━━━━━━━━━━━━━━━━━━━━━━━━━━━━━━━━━━━━━━━\u001b[0m \u001b[32m119.4/119.4 kB\u001b[0m \u001b[31m9.6 MB/s\u001b[0m eta \u001b[36m0:00:00\u001b[0m\n",
      "\u001b[2K   \u001b[90m━━━━━━━━━━━━━━━━━━━━━━━━━━━━━━━━━━━━━━━━\u001b[0m \u001b[32m47.4/47.4 kB\u001b[0m \u001b[31m3.2 MB/s\u001b[0m eta \u001b[36m0:00:00\u001b[0m\n",
      "\u001b[?25h"
     ]
    }
   ],
   "source": [
    "pip install -q 'bilby==2.4.0' 'gwpy==3.0.8'"
   ]
  },
  {
   "cell_type": "code",
   "execution_count": 6,
   "metadata": {
    "id": "iV6R87jrX_xe"
   },
   "outputs": [],
   "source": [
    "%matplotlib inline\n",
    "from __future__ import division, print_function\n",
    "import numpy as np\n",
    "import matplotlib.pyplot as plt\n",
    "\n",
    "import bilby\n",
    "from bilby.core.prior import Uniform\n",
    "from bilby.gw.conversion import convert_to_lal_binary_black_hole_parameters, generate_all_bbh_parameters\n",
    "\n",
    "from gwpy.timeseries import TimeSeries"
   ]
  },
  {
   "cell_type": "code",
   "execution_count": 47,
   "metadata": {
    "id": "azy_0RVhYHAd"
   },
   "outputs": [],
   "source": [
    "# setting up empty interferometers\n",
    "H1 = bilby.gw.detector.get_empty_interferometer(\"H1\")\n",
    "L1 = bilby.gw.detector.get_empty_interferometer(\"L1\")\n",
    "V1 = bilby.gw.detector.get_empty_interferometer(\"V1\")"
   ]
  },
  {
   "cell_type": "code",
   "execution_count": 48,
   "metadata": {
    "colab": {
     "base_uri": "https://localhost:8080/",
     "height": 480
    },
    "id": "LR6voPpdYKYR",
    "outputId": "55d8619f-f54a-4554-98ee-d3cec8d6b59e"
   },
   "outputs": [
    {
     "data": {
      "image/png": "[encoded data removed]",
      "text/plain": [
       "<Figure size 640x480 with 1 Axes>"
      ]
     },
     "metadata": {},
     "output_type": "display_data"
    }
   ],
   "source": [
    "# plotting strain data\n",
    "H1_data.plot()\n",
    "plt.xlabel('time')\n",
    "plt.ylabel('strain')\n",
    "plt.show()"
   ]
  },
  {
   "cell_type": "code",
   "execution_count": 49,
   "metadata": {
    "id": "SOSdFuieoaVr"
   },
   "outputs": [],
   "source": [
    "# As pycbc was not working on my local machine, the data files were saved as .txt and converted to gwpy timeseries later for use\n",
    "H1_data.save('H1_data.txt')\n",
    "L1_data.save('L1_data.txt')\n",
    "V1_data.save('V1_data.txt')\n"
   ]
  },
  {
   "cell_type": "code",
   "execution_count": 50,
   "metadata": {
    "id": "S6TWeKCEHT-i"
   },
   "outputs": [],
   "source": [
    "# converting to gwpy timeseries\n",
    "H1_data = TimeSeries(H1_data, sample_rate=4096)\n",
    "L1_data = TimeSeries(L1_data, sample_rate=4096)\n",
    "V1_data = TimeSeries(V1_data, sample_rate=4096)"
   ]
  },
  {
   "cell_type": "code",
   "execution_count": 51,
   "metadata": {
    "id": "a7RpA5xvYUCx"
   },
   "outputs": [],
   "source": [
    "H1.set_strain_data_from_gwpy_timeseries(H1_data)\n",
    "L1.set_strain_data_from_gwpy_timeseries(L1_data)\n",
    "V1.set_strain_data_from_gwpy_timeseries(V1_data)"
   ]
  },
  {
   "cell_type": "code",
   "execution_count": 52,
   "metadata": {
    "id": "AP8fA9wzqPTd"
   },
   "outputs": [],
   "source": [
    "from pycbc.waveform import get_td_waveform"
   ]
  },
  {
   "cell_type": "code",
   "execution_count": 25,
   "metadata": {
    "colab": {
     "base_uri": "https://localhost:8080/",
     "height": 478
    },
    "id": "HH0HnZi4qUCh",
    "outputId": "2cd3b567-3fb7-4a25-cbd0-1e76b83ce34b"
   },
   "outputs": [
    {
     "data": {
      "image/png": "[encoded data removed]",
      "text/plain": [
       "<Figure size 640x480 with 1 Axes>"
      ]
     },
     "metadata": {},
     "output_type": "display_data"
    }
   ],
   "source": [
    "\n",
    "hp, hc = get_td_waveform(approximant=\"SEOBNRv4_opt\",\n",
    "                     mass1=35,\n",
    "                     mass2=35,\n",
    "                     delta_t=1/4096,\n",
    "                     f_lower=20)\n",
    "# estimating the waveform (using average masses - each 35 solar mass)\n",
    "\n",
    "# We will resize the vector to match our data\n",
    "hp.resize(len(H1_data))\n",
    "\n",
    "# The waveform begins at the start of the vector, so if we want the\n",
    "# SNR time series to correspond to the approximate merger location\n",
    "# we need to shift the data so that the merger is approximately at the\n",
    "# first bin of the data.\n",
    "\n",
    "# This function rotates the vector by a fixed amount of time.\n",
    "# It treats the data as if it were on a ring. Note that\n",
    "# time stamps are *not* in general affected, but the true\n",
    "# position in the vector is.\n",
    "#\n",
    "# By convention waveforms returned from `get_td_waveform` have their\n",
    "# merger stamped with time zero, so we can use the start time to\n",
    "# shift the merger into position\n",
    "template = hp.cyclic_time_shift(hp.start_time)\n",
    "plt.plot(template)\n",
    "plt.show()"
   ]
  },
  {
   "cell_type": "code",
   "execution_count": 53,
   "metadata": {
    "id": "KUDTzvKrqpZA"
   },
   "outputs": [],
   "source": [
    "H1_data = frame.read_frame('PE.gwf', 'H1:FAKE_STRAIN')\n",
    "\n",
    "from pycbc.psd import welch, interpolate\n",
    "psd = interpolate(welch(H1_data), 1.0 / H1_data.duration)"
   ]
  },
  {
   "cell_type": "code",
   "execution_count": 54,
   "metadata": {
    "colab": {
     "base_uri": "https://localhost:8080/",
     "height": 477
    },
    "id": "LEIq7sa9qpdW",
    "outputId": "319da693-8435-4f5d-9489-bd535cfbd0b7"
   },
   "outputs": [
    {
     "data": {
      "image/png": "[encoded data removed]",
      "text/plain": [
       "<Figure size 640x480 with 1 Axes>"
      ]
     },
     "metadata": {},
     "output_type": "display_data"
    },
    {
     "name": "stdout",
     "output_type": "stream",
     "text": [
      "We found a signal at 1126259642.4172363s with SNR 18.17234083996064\n"
     ]
    }
   ],
   "source": [
    "from pycbc.filter import matched_filter\n",
    "\n",
    "snr = matched_filter(template, H1_data,psd=psd, low_frequency_cutoff=20)\n",
    "\n",
    "# Remove time corrupted by the template filter and the psd filter\n",
    "# We remove 4 seonds at the beginning and end for the PSD filtering\n",
    "# And we remove 4 additional seconds at the beginning to account for\n",
    "# the template length (this is somewhat generous for\n",
    "# so short a template). A longer signal such as from a BNS, would\n",
    "# require much more padding at the beginning of the vector.\n",
    "snr = snr.crop(4 + 4, 4)\n",
    "\n",
    "# Why am I taking an abs() here?\n",
    "# The `matched_filter` function actually returns a 'complex' SNR.\n",
    "# What that means is that the real portion correponds to the SNR\n",
    "# associated with directly filtering the template with the data.\n",
    "# The imaginary portion corresponds to filtering with a template that\n",
    "# is 90 degrees out of phase. Since the phase of a signal may be\n",
    "# anything, we choose to maximize over the phase of the signal.\n",
    "plt.plot(snr.sample_times, abs(snr))\n",
    "plt.ylabel('Signal-to-noise')\n",
    "plt.xlabel('Time (s)')\n",
    "plt.show()\n",
    "\n",
    "peak = abs(snr).numpy().argmax()\n",
    "snrp = snr[peak]\n",
    "event_time = snr.sample_times[peak]\n",
    "\n",
    "print(\"We found a signal at {}s with SNR {}\".format(event_time,\n",
    "                                                    abs(snrp)))"
   ]
  },
  {
   "cell_type": "code",
   "execution_count": 22,
   "metadata": {
    "id": "Ye4r2M5uqpf0"
   },
   "outputs": [],
   "source": [
    "# Note that even if the change the masses in the given interval (20 to 50 solar masses), the event time doesn't change significantly\n",
    "# Only the SNR will change (and it will be maximum for the 'actual' masses)"
   ]
  },
  {
   "cell_type": "code",
   "execution_count": 24,
   "metadata": {
    "colab": {
     "base_uri": "https://localhost:8080/",
     "height": 477
    },
    "id": "54B4OnARqpiH",
    "outputId": "e41c2eb3-d1e8-4c64-8e43-5b7bb9230e04"
   },
   "outputs": [
    {
     "data": {
      "image/png": "[encoded data removed]",
      "text/plain": [
       "<Figure size 640x480 with 1 Axes>"
      ]
     },
     "metadata": {},
     "output_type": "display_data"
    },
    {
     "name": "stdout",
     "output_type": "stream",
     "text": [
      "We found a signal at 1126259642.4189453s with SNR 22.66259230729233\n"
     ]
    }
   ],
   "source": [
    "# for ex., using different masses -> SNR changes\n",
    "hp, hc = get_td_waveform(approximant=\"SEOBNRv4_opt\",\n",
    "                     mass1=22,\n",
    "                     mass2=42,\n",
    "                     delta_t=1/4096,\n",
    "                     f_lower=20)\n",
    "hp.resize(len(H1_data))\n",
    "\n",
    "template = hp.cyclic_time_shift(hp.start_time)\n",
    "\n",
    "snr = matched_filter(template, H1_data,psd=psd, low_frequency_cutoff=20)\n",
    "\n",
    "snr = snr.crop(4 + 4, 4)\n",
    "\n",
    "plt.plot(snr.sample_times, abs(snr))\n",
    "plt.ylabel('Signal-to-noise')\n",
    "plt.xlabel('Time (s)')\n",
    "plt.show()\n",
    "\n",
    "peak = abs(snr).numpy().argmax()\n",
    "snrp = snr[peak]\n",
    "\n",
    "print(\"We found a signal at {}s with SNR {}\".format(snr.sample_times[peak],\n",
    "                                                    abs(snrp)))\n"
   ]
  },
  {
   "cell_type": "code",
   "execution_count": 28,
   "metadata": {
    "id": "n77J2km2sIrG"
   },
   "outputs": [],
   "source": [
    "# We now calculate the PSD from the data"
   ]
  },
  {
   "cell_type": "code",
   "execution_count": 29,
   "metadata": {
    "colab": {
     "base_uri": "https://localhost:8080/"
    },
    "id": "ljpPLFAnxKEJ",
    "outputId": "045731b5-7df7-4461-9122-02fd0a9d820e"
   },
   "outputs": [
    {
     "name": "stdout",
     "output_type": "stream",
     "text": [
      "122880\n",
      "122880\n",
      "122880\n"
     ]
    }
   ],
   "source": [
    "# For this, we separate the strain data into two intervals, one containing the signal and another not containing the signal and compare PSD for both\n",
    "# total length of data\n",
    "print(len(H1_data))\n",
    "print(len(L1_data))\n",
    "print(len(V1_data))\n"
   ]
  },
  {
   "cell_type": "code",
   "execution_count": 36,
   "metadata": {
    "id": "-osLmlv5xqfb"
   },
   "outputs": [],
   "source": [
    "\n",
    "# From the signal time, we know that the signal lies in the seconf half. Therefore, we seperate the time interval into two halves of 15 seconds each\n",
    "H1_data = TimeSeries(H1_data, sample_rate=4096) # converting back to gwpy timeseries\n",
    "\n",
    "H1_psd_data = H1_data[0:61440]\n",
    "L1_psd_data = L1_data[0:61440]\n",
    "V1_psd_data = V1_data[0:61440]\n",
    "H1_signal_data = H1_data[61440:]\n",
    "L1_signal_data = H1_data[61440:]\n",
    "V1_signal_data = H1_data[61440:]"
   ]
  },
  {
   "cell_type": "code",
   "execution_count": 38,
   "metadata": {
    "id": "8xiXPMf25Dlu"
   },
   "outputs": [],
   "source": [
    "H1_signal_data = TimeSeries(H1_signal_data, sample_rate=4096)\n",
    "H1.set_strain_data_from_gwpy_timeseries(H1_signal_data)"
   ]
  },
  {
   "cell_type": "code",
   "execution_count": 39,
   "metadata": {
    "id": "0ot69aHWyIpZ"
   },
   "outputs": [],
   "source": [
    "duration = 15\n",
    "psd_duration = 15\n",
    "psd_alpha = 2 * H1.strain_data.roll_off / duration\n",
    "H1_psd_new = H1_psd_data.psd(fftlength=duration, overlap=0, window=(\"tukey\", psd_alpha), method=\"median\")\n",
    "L1_psd_new = L1_psd_data.psd(fftlength=duration, overlap=0, window=(\"tukey\", psd_alpha), method=\"median\")\n",
    "V1_psd_new = V1_psd_data.psd(fftlength=duration, overlap=0, window=(\"tukey\", psd_alpha), method=\"median\")"
   ]
  },
  {
   "cell_type": "code",
   "execution_count": 43,
   "metadata": {
    "id": "DTjZC5SqymS0"
   },
   "outputs": [],
   "source": [
    "H1.power_spectral_density = bilby.gw.detector.PowerSpectralDensity(\n",
    "    frequency_array=H1_psd_new.frequencies.value, psd_array=H1_psd_new.value)\n",
    "L1.power_spectral_density = bilby.gw.detector.PowerSpectralDensity(\n",
    "    frequency_array=L1_psd_new.frequencies.value, psd_array=L1_psd_new.value)\n",
    "V1.power_spectral_density = bilby.gw.detector.PowerSpectralDensity(\n",
    "    frequency_array=V1_psd_new.frequencies.value, psd_array=V1_psd_new.value)"
   ]
  },
  {
   "cell_type": "code",
   "execution_count": 44,
   "metadata": {
    "colab": {
     "base_uri": "https://localhost:8080/",
     "height": 468
    },
    "id": "lTSESbJ2uZMt",
    "outputId": "0d932bf0-e876-448a-f9b9-15dd155a08f1"
   },
   "outputs": [
    {
     "data": {
      "image/png": "[encoded data removed]",
      "text/plain": [
       "<Figure size 640x480 with 1 Axes>"
      ]
     },
     "metadata": {},
     "output_type": "display_data"
    }
   ],
   "source": [
    "fig, ax = plt.subplots()\n",
    "\n",
    "ax.loglog(H1.strain_data.frequency_array,\n",
    "          np.abs(H1.strain_data.frequency_domain_strain))\n",
    "# ax.loglog(H1.strain_data.frequency_array,np.sqrt(H1_psd_new.value))\n",
    "ax.loglog(H1.power_spectral_density.frequency_array,\n",
    "           H1.power_spectral_density.asd_array)\n",
    "ax.set_xlabel(\"Frequency [Hz]\")\n",
    "ax.set_xlim(50,2000)\n",
    "ax.set_ylim(1e-26, 1e-20)\n",
    "ax.set_ylabel(\"Strain [strain/$\\sqrt{Hz}$]\")\n",
    "plt.show()\n",
    "\n"
   ]
  },
  {
   "cell_type": "code",
   "execution_count": null,
   "metadata": {
    "id": "-nh7H5OnuMJI"
   },
   "outputs": [],
   "source": [
    "# We now use bilby for paramter estimation\n",
    "# Since run_sampler was taking long to run, this part was coded offline and run on the local machine\n",
    "# The script 210260038_code_Part2_PE.py was run for parameter estimation and the results were saved in 'posterior.csv'\n",
    "# The results have been analyzed in 210260038_code_Part3_results.ipynb "
   ]
  }
 ],
 "metadata": {
  "colab": {
   "provenance": []
  },
  "kernelspec": {
   "display_name": "Python 3 (ipykernel)",
   "language": "python",
   "name": "python3"
  },
  "language_info": {
   "codemirror_mode": {
    "name": "ipython",
    "version": 3
   },
   "file_extension": ".py",
   "mimetype": "text/x-python",
   "name": "python",
   "nbconvert_exporter": "python",
   "pygments_lexer": "ipython3",
   "version": "3.9.7"
  },
  "widgets": {
   "application/vnd.jupyter.widget-state+json": {
    "0062428c05bd4ac6a6c7f7a641ca6a2e": {
     "model_module": "@jupyter-widgets/controls",
     "model_module_version": "1.5.0",
     "model_name": "ProgressStyleModel",
     "state": {
      "_model_module": "@jupyter-widgets/controls",
      "_model_module_version": "1.5.0",
      "_model_name": "ProgressStyleModel",
      "_view_count": null,
      "_view_module": "@jupyter-widgets/base",
      "_view_module_version": "1.2.0",
      "_view_name": "StyleView",
      "bar_color": null,
      "description_width": ""
     }
    },
    "0e2d240599b04de2b8e45d23eed3c0d9": {
     "model_module": "@jupyter-widgets/controls",
     "model_module_version": "1.5.0",
     "model_name": "HTMLModel",
     "state": {
      "_dom_classes": [],
      "_model_module": "@jupyter-widgets/controls",
      "_model_module_version": "1.5.0",
      "_model_name": "HTMLModel",
      "_view_count": null,
      "_view_module": "@jupyter-widgets/controls",
      "_view_module_version": "1.5.0",
      "_view_name": "HTMLView",
      "description": "",
      "description_tooltip": null,
      "layout": "IPY_MODEL_b80be7031de94fa282fe02578392aeb2",
      "placeholder": "​",
      "style": "IPY_MODEL_f47d058953c54d0db08f69a9d538abed",
      "value": " 823/? [14:17&lt;00:00,  4.25s/it, bound:0 nc: 18 ncall:7.4e+03 eff:11.2% logz-ratio=-293.88+/-0.16 dlogz:185.679&gt;1]"
     }
    },
    "112e3d9bc4fc453e8dfcef89312c0bb1": {
     "model_module": "@jupyter-widgets/controls",
     "model_module_version": "1.5.0",
     "model_name": "HTMLModel",
     "state": {
      "_dom_classes": [],
      "_model_module": "@jupyter-widgets/controls",
      "_model_module_version": "1.5.0",
      "_model_name": "HTMLModel",
      "_view_count": null,
      "_view_module": "@jupyter-widgets/controls",
      "_view_module_version": "1.5.0",
      "_view_name": "HTMLView",
      "description": "",
      "description_tooltip": null,
      "layout": "IPY_MODEL_71e5e6ea304148dea5ef7f9ab4bc315a",
      "placeholder": "​",
      "style": "IPY_MODEL_7e450d9711624e8a99f66bfe66adc8a2",
      "value": ""
     }
    },
    "36aaf1ea92d04e149762402295154bf7": {
     "model_module": "@jupyter-widgets/base",
     "model_module_version": "1.2.0",
     "model_name": "LayoutModel",
     "state": {
      "_model_module": "@jupyter-widgets/base",
      "_model_module_version": "1.2.0",
      "_model_name": "LayoutModel",
      "_view_count": null,
      "_view_module": "@jupyter-widgets/base",
      "_view_module_version": "1.2.0",
      "_view_name": "LayoutView",
      "align_content": null,
      "align_items": null,
      "align_self": null,
      "border": null,
      "bottom": null,
      "display": null,
      "flex": null,
      "flex_flow": null,
      "grid_area": null,
      "grid_auto_columns": null,
      "grid_auto_flow": null,
      "grid_auto_rows": null,
      "grid_column": null,
      "grid_gap": null,
      "grid_row": null,
      "grid_template_areas": null,
      "grid_template_columns": null,
      "grid_template_rows": null,
      "height": null,
      "justify_content": null,
      "justify_items": null,
      "left": null,
      "margin": null,
      "max_height": null,
      "max_width": null,
      "min_height": null,
      "min_width": null,
      "object_fit": null,
      "object_position": null,
      "order": null,
      "overflow": null,
      "overflow_x": null,
      "overflow_y": null,
      "padding": null,
      "right": null,
      "top": null,
      "visibility": null,
      "width": "20px"
     }
    },
    "3e3d397d60ec4fb9bf18282b492288ef": {
     "model_module": "@jupyter-widgets/base",
     "model_module_version": "1.2.0",
     "model_name": "LayoutModel",
     "state": {
      "_model_module": "@jupyter-widgets/base",
      "_model_module_version": "1.2.0",
      "_model_name": "LayoutModel",
      "_view_count": null,
      "_view_module": "@jupyter-widgets/base",
      "_view_module_version": "1.2.0",
      "_view_name": "LayoutView",
      "align_content": null,
      "align_items": null,
      "align_self": null,
      "border": null,
      "bottom": null,
      "display": null,
      "flex": null,
      "flex_flow": null,
      "grid_area": null,
      "grid_auto_columns": null,
      "grid_auto_flow": null,
      "grid_auto_rows": null,
      "grid_column": null,
      "grid_gap": null,
      "grid_row": null,
      "grid_template_areas": null,
      "grid_template_columns": null,
      "grid_template_rows": null,
      "height": null,
      "justify_content": null,
      "justify_items": null,
      "left": null,
      "margin": null,
      "max_height": null,
      "max_width": null,
      "min_height": null,
      "min_width": null,
      "object_fit": null,
      "object_position": null,
      "order": null,
      "overflow": null,
      "overflow_x": null,
      "overflow_y": null,
      "padding": null,
      "right": null,
      "top": null,
      "visibility": null,
      "width": null
     }
    },
    "49bfa7eab24d44a8894b6f819e5bf7e9": {
     "model_module": "@jupyter-widgets/controls",
     "model_module_version": "1.5.0",
     "model_name": "HTMLModel",
     "state": {
      "_dom_classes": [],
      "_model_module": "@jupyter-widgets/controls",
      "_model_module_version": "1.5.0",
      "_model_name": "HTMLModel",
      "_view_count": null,
      "_view_module": "@jupyter-widgets/controls",
      "_view_module_version": "1.5.0",
      "_view_name": "HTMLView",
      "description": "",
      "description_tooltip": null,
      "layout": "IPY_MODEL_d60d1ea81ef045af90aad346e7a830dc",
      "placeholder": "​",
      "style": "IPY_MODEL_7f12509881bd457c9d1686536ebe1544",
      "value": " 3201/? [07:07&lt;00:00,  1.57it/s, bound:24 nc:  3 ncall:3.2e+04 eff:10.1% logz-ratio=-450.64+/-0.14 dlogz:348.508&gt;3]"
     }
    },
    "51433221dcab41038f6982ac0d5ef1d0": {
     "model_module": "@jupyter-widgets/controls",
     "model_module_version": "1.5.0",
     "model_name": "ProgressStyleModel",
     "state": {
      "_model_module": "@jupyter-widgets/controls",
      "_model_module_version": "1.5.0",
      "_model_name": "ProgressStyleModel",
      "_view_count": null,
      "_view_module": "@jupyter-widgets/base",
      "_view_module_version": "1.2.0",
      "_view_name": "StyleView",
      "bar_color": null,
      "description_width": ""
     }
    },
    "53269c4e7e27473fa2fde855224380d0": {
     "model_module": "@jupyter-widgets/controls",
     "model_module_version": "1.5.0",
     "model_name": "HTMLModel",
     "state": {
      "_dom_classes": [],
      "_model_module": "@jupyter-widgets/controls",
      "_model_module_version": "1.5.0",
      "_model_name": "HTMLModel",
      "_view_count": null,
      "_view_module": "@jupyter-widgets/controls",
      "_view_module_version": "1.5.0",
      "_view_name": "HTMLView",
      "description": "",
      "description_tooltip": null,
      "layout": "IPY_MODEL_3e3d397d60ec4fb9bf18282b492288ef",
      "placeholder": "​",
      "style": "IPY_MODEL_b41d4219e6ad4e1595d03ac2bae9889c",
      "value": ""
     }
    },
    "53f4395e9f0a46358a147ea9881a7a44": {
     "model_module": "@jupyter-widgets/controls",
     "model_module_version": "1.5.0",
     "model_name": "FloatProgressModel",
     "state": {
      "_dom_classes": [],
      "_model_module": "@jupyter-widgets/controls",
      "_model_module_version": "1.5.0",
      "_model_name": "FloatProgressModel",
      "_view_count": null,
      "_view_module": "@jupyter-widgets/controls",
      "_view_module_version": "1.5.0",
      "_view_name": "ProgressView",
      "bar_style": "success",
      "description": "",
      "description_tooltip": null,
      "layout": "IPY_MODEL_b24c017b518f43eca86b8e97f85fd700",
      "max": 1,
      "min": 0,
      "orientation": "horizontal",
      "style": "IPY_MODEL_0062428c05bd4ac6a6c7f7a641ca6a2e",
      "value": 1
     }
    },
    "642a5a2cc94948b1831ecf7e46f41c36": {
     "model_module": "@jupyter-widgets/base",
     "model_module_version": "1.2.0",
     "model_name": "LayoutModel",
     "state": {
      "_model_module": "@jupyter-widgets/base",
      "_model_module_version": "1.2.0",
      "_model_name": "LayoutModel",
      "_view_count": null,
      "_view_module": "@jupyter-widgets/base",
      "_view_module_version": "1.2.0",
      "_view_name": "LayoutView",
      "align_content": null,
      "align_items": null,
      "align_self": null,
      "border": null,
      "bottom": null,
      "display": null,
      "flex": null,
      "flex_flow": null,
      "grid_area": null,
      "grid_auto_columns": null,
      "grid_auto_flow": null,
      "grid_auto_rows": null,
      "grid_column": null,
      "grid_gap": null,
      "grid_row": null,
      "grid_template_areas": null,
      "grid_template_columns": null,
      "grid_template_rows": null,
      "height": null,
      "justify_content": null,
      "justify_items": null,
      "left": null,
      "margin": null,
      "max_height": null,
      "max_width": null,
      "min_height": null,
      "min_width": null,
      "object_fit": null,
      "object_position": null,
      "order": null,
      "overflow": null,
      "overflow_x": null,
      "overflow_y": null,
      "padding": null,
      "right": null,
      "top": null,
      "visibility": null,
      "width": null
     }
    },
    "71e5e6ea304148dea5ef7f9ab4bc315a": {
     "model_module": "@jupyter-widgets/base",
     "model_module_version": "1.2.0",
     "model_name": "LayoutModel",
     "state": {
      "_model_module": "@jupyter-widgets/base",
      "_model_module_version": "1.2.0",
      "_model_name": "LayoutModel",
      "_view_count": null,
      "_view_module": "@jupyter-widgets/base",
      "_view_module_version": "1.2.0",
      "_view_name": "LayoutView",
      "align_content": null,
      "align_items": null,
      "align_self": null,
      "border": null,
      "bottom": null,
      "display": null,
      "flex": null,
      "flex_flow": null,
      "grid_area": null,
      "grid_auto_columns": null,
      "grid_auto_flow": null,
      "grid_auto_rows": null,
      "grid_column": null,
      "grid_gap": null,
      "grid_row": null,
      "grid_template_areas": null,
      "grid_template_columns": null,
      "grid_template_rows": null,
      "height": null,
      "justify_content": null,
      "justify_items": null,
      "left": null,
      "margin": null,
      "max_height": null,
      "max_width": null,
      "min_height": null,
      "min_width": null,
      "object_fit": null,
      "object_position": null,
      "order": null,
      "overflow": null,
      "overflow_x": null,
      "overflow_y": null,
      "padding": null,
      "right": null,
      "top": null,
      "visibility": null,
      "width": null
     }
    },
    "7ade4561deef480989ff636e96b1b90d": {
     "model_module": "@jupyter-widgets/base",
     "model_module_version": "1.2.0",
     "model_name": "LayoutModel",
     "state": {
      "_model_module": "@jupyter-widgets/base",
      "_model_module_version": "1.2.0",
      "_model_name": "LayoutModel",
      "_view_count": null,
      "_view_module": "@jupyter-widgets/base",
      "_view_module_version": "1.2.0",
      "_view_name": "LayoutView",
      "align_content": null,
      "align_items": null,
      "align_self": null,
      "border": null,
      "bottom": null,
      "display": null,
      "flex": null,
      "flex_flow": null,
      "grid_area": null,
      "grid_auto_columns": null,
      "grid_auto_flow": null,
      "grid_auto_rows": null,
      "grid_column": null,
      "grid_gap": null,
      "grid_row": null,
      "grid_template_areas": null,
      "grid_template_columns": null,
      "grid_template_rows": null,
      "height": null,
      "justify_content": null,
      "justify_items": null,
      "left": null,
      "margin": null,
      "max_height": null,
      "max_width": null,
      "min_height": null,
      "min_width": null,
      "object_fit": null,
      "object_position": null,
      "order": null,
      "overflow": null,
      "overflow_x": null,
      "overflow_y": null,
      "padding": null,
      "right": null,
      "top": null,
      "visibility": null,
      "width": null
     }
    },
    "7e450d9711624e8a99f66bfe66adc8a2": {
     "model_module": "@jupyter-widgets/controls",
     "model_module_version": "1.5.0",
     "model_name": "DescriptionStyleModel",
     "state": {
      "_model_module": "@jupyter-widgets/controls",
      "_model_module_version": "1.5.0",
      "_model_name": "DescriptionStyleModel",
      "_view_count": null,
      "_view_module": "@jupyter-widgets/base",
      "_view_module_version": "1.2.0",
      "_view_name": "StyleView",
      "description_width": ""
     }
    },
    "7f12509881bd457c9d1686536ebe1544": {
     "model_module": "@jupyter-widgets/controls",
     "model_module_version": "1.5.0",
     "model_name": "DescriptionStyleModel",
     "state": {
      "_model_module": "@jupyter-widgets/controls",
      "_model_module_version": "1.5.0",
      "_model_name": "DescriptionStyleModel",
      "_view_count": null,
      "_view_module": "@jupyter-widgets/base",
      "_view_module_version": "1.2.0",
      "_view_name": "StyleView",
      "description_width": ""
     }
    },
    "a8e7be9b21074303afdfcac457788d67": {
     "model_module": "@jupyter-widgets/controls",
     "model_module_version": "1.5.0",
     "model_name": "FloatProgressModel",
     "state": {
      "_dom_classes": [],
      "_model_module": "@jupyter-widgets/controls",
      "_model_module_version": "1.5.0",
      "_model_name": "FloatProgressModel",
      "_view_count": null,
      "_view_module": "@jupyter-widgets/controls",
      "_view_module_version": "1.5.0",
      "_view_name": "ProgressView",
      "bar_style": "success",
      "description": "",
      "description_tooltip": null,
      "layout": "IPY_MODEL_36aaf1ea92d04e149762402295154bf7",
      "max": 1,
      "min": 0,
      "orientation": "horizontal",
      "style": "IPY_MODEL_51433221dcab41038f6982ac0d5ef1d0",
      "value": 1
     }
    },
    "b24c017b518f43eca86b8e97f85fd700": {
     "model_module": "@jupyter-widgets/base",
     "model_module_version": "1.2.0",
     "model_name": "LayoutModel",
     "state": {
      "_model_module": "@jupyter-widgets/base",
      "_model_module_version": "1.2.0",
      "_model_name": "LayoutModel",
      "_view_count": null,
      "_view_module": "@jupyter-widgets/base",
      "_view_module_version": "1.2.0",
      "_view_name": "LayoutView",
      "align_content": null,
      "align_items": null,
      "align_self": null,
      "border": null,
      "bottom": null,
      "display": null,
      "flex": null,
      "flex_flow": null,
      "grid_area": null,
      "grid_auto_columns": null,
      "grid_auto_flow": null,
      "grid_auto_rows": null,
      "grid_column": null,
      "grid_gap": null,
      "grid_row": null,
      "grid_template_areas": null,
      "grid_template_columns": null,
      "grid_template_rows": null,
      "height": null,
      "justify_content": null,
      "justify_items": null,
      "left": null,
      "margin": null,
      "max_height": null,
      "max_width": null,
      "min_height": null,
      "min_width": null,
      "object_fit": null,
      "object_position": null,
      "order": null,
      "overflow": null,
      "overflow_x": null,
      "overflow_y": null,
      "padding": null,
      "right": null,
      "top": null,
      "visibility": null,
      "width": "20px"
     }
    },
    "b41d4219e6ad4e1595d03ac2bae9889c": {
     "model_module": "@jupyter-widgets/controls",
     "model_module_version": "1.5.0",
     "model_name": "DescriptionStyleModel",
     "state": {
      "_model_module": "@jupyter-widgets/controls",
      "_model_module_version": "1.5.0",
      "_model_name": "DescriptionStyleModel",
      "_view_count": null,
      "_view_module": "@jupyter-widgets/base",
      "_view_module_version": "1.2.0",
      "_view_name": "StyleView",
      "description_width": ""
     }
    },
    "b80be7031de94fa282fe02578392aeb2": {
     "model_module": "@jupyter-widgets/base",
     "model_module_version": "1.2.0",
     "model_name": "LayoutModel",
     "state": {
      "_model_module": "@jupyter-widgets/base",
      "_model_module_version": "1.2.0",
      "_model_name": "LayoutModel",
      "_view_count": null,
      "_view_module": "@jupyter-widgets/base",
      "_view_module_version": "1.2.0",
      "_view_name": "LayoutView",
      "align_content": null,
      "align_items": null,
      "align_self": null,
      "border": null,
      "bottom": null,
      "display": null,
      "flex": null,
      "flex_flow": null,
      "grid_area": null,
      "grid_auto_columns": null,
      "grid_auto_flow": null,
      "grid_auto_rows": null,
      "grid_column": null,
      "grid_gap": null,
      "grid_row": null,
      "grid_template_areas": null,
      "grid_template_columns": null,
      "grid_template_rows": null,
      "height": null,
      "justify_content": null,
      "justify_items": null,
      "left": null,
      "margin": null,
      "max_height": null,
      "max_width": null,
      "min_height": null,
      "min_width": null,
      "object_fit": null,
      "object_position": null,
      "order": null,
      "overflow": null,
      "overflow_x": null,
      "overflow_y": null,
      "padding": null,
      "right": null,
      "top": null,
      "visibility": null,
      "width": null
     }
    },
    "cfae6a73657b4ca9bd631181aba1fc5f": {
     "model_module": "@jupyter-widgets/controls",
     "model_module_version": "1.5.0",
     "model_name": "HBoxModel",
     "state": {
      "_dom_classes": [],
      "_model_module": "@jupyter-widgets/controls",
      "_model_module_version": "1.5.0",
      "_model_name": "HBoxModel",
      "_view_count": null,
      "_view_module": "@jupyter-widgets/controls",
      "_view_module_version": "1.5.0",
      "_view_name": "HBoxView",
      "box_style": "",
      "children": [
       "IPY_MODEL_112e3d9bc4fc453e8dfcef89312c0bb1",
       "IPY_MODEL_a8e7be9b21074303afdfcac457788d67",
       "IPY_MODEL_0e2d240599b04de2b8e45d23eed3c0d9"
      ],
      "layout": "IPY_MODEL_642a5a2cc94948b1831ecf7e46f41c36"
     }
    },
    "d60d1ea81ef045af90aad346e7a830dc": {
     "model_module": "@jupyter-widgets/base",
     "model_module_version": "1.2.0",
     "model_name": "LayoutModel",
     "state": {
      "_model_module": "@jupyter-widgets/base",
      "_model_module_version": "1.2.0",
      "_model_name": "LayoutModel",
      "_view_count": null,
      "_view_module": "@jupyter-widgets/base",
      "_view_module_version": "1.2.0",
      "_view_name": "LayoutView",
      "align_content": null,
      "align_items": null,
      "align_self": null,
      "border": null,
      "bottom": null,
      "display": null,
      "flex": null,
      "flex_flow": null,
      "grid_area": null,
      "grid_auto_columns": null,
      "grid_auto_flow": null,
      "grid_auto_rows": null,
      "grid_column": null,
      "grid_gap": null,
      "grid_row": null,
      "grid_template_areas": null,
      "grid_template_columns": null,
      "grid_template_rows": null,
      "height": null,
      "justify_content": null,
      "justify_items": null,
      "left": null,
      "margin": null,
      "max_height": null,
      "max_width": null,
      "min_height": null,
      "min_width": null,
      "object_fit": null,
      "object_position": null,
      "order": null,
      "overflow": null,
      "overflow_x": null,
      "overflow_y": null,
      "padding": null,
      "right": null,
      "top": null,
      "visibility": null,
      "width": null
     }
    },
    "db0c5491de0b43f2a54d460c60deafb5": {
     "model_module": "@jupyter-widgets/controls",
     "model_module_version": "1.5.0",
     "model_name": "HBoxModel",
     "state": {
      "_dom_classes": [],
      "_model_module": "@jupyter-widgets/controls",
      "_model_module_version": "1.5.0",
      "_model_name": "HBoxModel",
      "_view_count": null,
      "_view_module": "@jupyter-widgets/controls",
      "_view_module_version": "1.5.0",
      "_view_name": "HBoxView",
      "box_style": "",
      "children": [
       "IPY_MODEL_53269c4e7e27473fa2fde855224380d0",
       "IPY_MODEL_53f4395e9f0a46358a147ea9881a7a44",
       "IPY_MODEL_49bfa7eab24d44a8894b6f819e5bf7e9"
      ],
      "layout": "IPY_MODEL_7ade4561deef480989ff636e96b1b90d"
     }
    },
    "f47d058953c54d0db08f69a9d538abed": {
     "model_module": "@jupyter-widgets/controls",
     "model_module_version": "1.5.0",
     "model_name": "DescriptionStyleModel",
     "state": {
      "_model_module": "@jupyter-widgets/controls",
      "_model_module_version": "1.5.0",
      "_model_name": "DescriptionStyleModel",
      "_view_count": null,
      "_view_module": "@jupyter-widgets/base",
      "_view_module_version": "1.2.0",
      "_view_name": "StyleView",
      "description_width": ""
     }
    }
   }
  }
 },
 "nbformat": 4,
 "nbformat_minor": 1
}
